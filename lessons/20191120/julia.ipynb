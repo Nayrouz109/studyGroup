{
 "cells": [
  {
   "cell_type": "markdown",
   "metadata": {},
   "source": [
    "# The Julia Programming Language\n",
    "\n",
    "Arnav Sood, `arnav.sood@ubc.ca`, UBC R Study Group"
   ]
  },
  {
   "cell_type": "code",
   "execution_count": 5,
   "metadata": {},
   "outputs": [
    {
     "data": {
      "text/plain": [
       "\"Wed, 20 Nov 2019\""
      ]
     },
     "execution_count": 5,
     "metadata": {},
     "output_type": "execute_result"
    }
   ],
   "source": [
    "using Dates; Dates.format(today(), \"e, dd u yyyy\")"
   ]
  },
  {
   "cell_type": "markdown",
   "metadata": {},
   "source": [
    "## (1/3) Language Overview"
   ]
  },
  {
   "cell_type": "markdown",
   "metadata": {},
   "source": [
    "### What Julia Is\n",
    "\n",
    "> Fast"
   ]
  },
  {
   "cell_type": "markdown",
   "metadata": {},
   "source": [
    "![](benchmarks.svg)\n",
    "\n",
    "Source: `julialang.org`"
   ]
  },
  {
   "cell_type": "code",
   "execution_count": 6,
   "metadata": {},
   "outputs": [
    {
     "name": "stderr",
     "output_type": "stream",
     "text": [
      "┌ Info: Recompiling stale cache file /Users/arnavsood/.julia/compiled/v1.2/BenchmarkTools/ZXPQo.ji for BenchmarkTools [6e4b80f9-dd63-53aa-95a3-0cdb28fa8baf]\n",
      "└ @ Base loading.jl:1240\n"
     ]
    },
    {
     "name": "stdout",
     "output_type": "stream",
     "text": [
      "  8.072 s (0 allocations: 0 bytes)\n"
     ]
    },
    {
     "data": {
      "text/plain": [
       "2971215073"
      ]
     },
     "execution_count": 6,
     "metadata": {},
     "output_type": "execute_result"
    }
   ],
   "source": [
    "function fib(n) # https://github.com/drujensen/fib benchmarks\n",
    "  if n <= 1 return 1 end\n",
    "  return fib(n - 1) + fib(n - 2)\n",
    "end\n",
    "\n",
    "using BenchmarkTools\n",
    "@btime fib(46)"
   ]
  },
  {
   "cell_type": "code",
   "execution_count": null,
   "metadata": {},
   "outputs": [],
   "source": [
    "; time python3 fib/fib.py "
   ]
  },
  {
   "cell_type": "code",
   "execution_count": null,
   "metadata": {},
   "outputs": [],
   "source": [
    "; time Rscript fib/fib.r"
   ]
  },
  {
   "cell_type": "markdown",
   "metadata": {},
   "source": [
    "> Flexible"
   ]
  },
  {
   "cell_type": "code",
   "execution_count": 7,
   "metadata": {},
   "outputs": [
    {
     "name": "stderr",
     "output_type": "stream",
     "text": [
      "┌ Info: Precompiling Measurements [eff96d63-e80a-5855-80a2-b1b0885c5ab7]\n",
      "└ @ Base loading.jl:1242\n"
     ]
    }
   ],
   "source": [
    "using Distributions, Measurements"
   ]
  },
  {
   "cell_type": "code",
   "execution_count": 11,
   "metadata": {},
   "outputs": [
    {
     "data": {
      "text/latex": [
       "$4.71 \\pm 0.01$"
      ],
      "text/plain": [
       "4.71 ± 0.01"
      ]
     },
     "execution_count": 11,
     "metadata": {},
     "output_type": "execute_result"
    }
   ],
   "source": [
    "m = 4.71 ± 0.01"
   ]
  },
  {
   "cell_type": "code",
   "execution_count": 14,
   "metadata": {},
   "outputs": [
    {
     "data": {
      "text/latex": [
       "$1.0 \\pm 0.5$"
      ],
      "text/plain": [
       "1.0 ± 0.5"
      ]
     },
     "execution_count": 14,
     "metadata": {},
     "output_type": "execute_result"
    }
   ],
   "source": [
    "m = 4.71 ± 0.01 # inspired by Chris Rackauckus' story at JuliaCon about overloading\n",
    "s = 1.0 ± 0.5"
   ]
  },
  {
   "cell_type": "code",
   "execution_count": 15,
   "metadata": {},
   "outputs": [
    {
     "data": {
      "text/plain": [
       "Normal{Measurement{Float64}}(μ=4.71 ± 0.01, σ=1.0 ± 0.5)"
      ]
     },
     "execution_count": 15,
     "metadata": {},
     "output_type": "execute_result"
    }
   ],
   "source": [
    "d = Normal(m,s)"
   ]
  },
  {
   "cell_type": "code",
   "execution_count": 16,
   "metadata": {},
   "outputs": [
    {
     "name": "stdout",
     "output_type": "stream",
     "text": [
      "mean(d) = 4.71 ± 0.01\n"
     ]
    },
    {
     "data": {
      "text/latex": [
       "$4.71 \\pm 0.01$"
      ],
      "text/plain": [
       "4.71 ± 0.01"
      ]
     },
     "execution_count": 16,
     "metadata": {},
     "output_type": "execute_result"
    }
   ],
   "source": [
    "@show mean(d)"
   ]
  },
  {
   "cell_type": "code",
   "execution_count": 17,
   "metadata": {},
   "outputs": [
    {
     "data": {
      "text/latex": [
       "$1.0 \\pm 0.5$"
      ],
      "text/plain": [
       "1.0 ± 0.5"
      ]
     },
     "execution_count": 17,
     "metadata": {},
     "output_type": "execute_result"
    }
   ],
   "source": [
    "std(d)"
   ]
  },
  {
   "cell_type": "code",
   "execution_count": 18,
   "metadata": {},
   "outputs": [
    {
     "data": {
      "text/latex": [
       "$1.0 \\pm 1.0$"
      ],
      "text/plain": [
       "1.0 ± 1.0"
      ]
     },
     "execution_count": 18,
     "metadata": {},
     "output_type": "execute_result"
    }
   ],
   "source": [
    "var(d) "
   ]
  },
  {
   "cell_type": "code",
   "execution_count": 21,
   "metadata": {},
   "outputs": [
    {
     "data": {
      "text/latex": [
       "$0.0 \\pm 0.0$"
      ],
      "text/plain": [
       "0.0 ± 0.0"
      ]
     },
     "execution_count": 21,
     "metadata": {},
     "output_type": "execute_result"
    }
   ],
   "source": [
    "s^2 - var(d)"
   ]
  },
  {
   "cell_type": "code",
   "execution_count": 19,
   "metadata": {},
   "outputs": [
    {
     "data": {
      "text/latex": [
       "$0.0 \\pm 0.0$"
      ],
      "text/plain": [
       "0.0 ± 0.0"
      ]
     },
     "execution_count": 19,
     "metadata": {},
     "output_type": "execute_result"
    }
   ],
   "source": [
    "kurtosis(d)"
   ]
  },
  {
   "cell_type": "code",
   "execution_count": 20,
   "metadata": {},
   "outputs": [
    {
     "data": {
      "text/latex": [
       "$1.42 \\pm 0.5$"
      ],
      "text/plain": [
       "1.42 ± 0.5"
      ]
     },
     "execution_count": 20,
     "metadata": {},
     "output_type": "execute_result"
    }
   ],
   "source": [
    "entropy(d)"
   ]
  },
  {
   "cell_type": "code",
   "execution_count": 24,
   "metadata": {},
   "outputs": [],
   "source": [
    "E2 = expectation(Normal(1, 2));"
   ]
  },
  {
   "cell_type": "code",
   "execution_count": 25,
   "metadata": {},
   "outputs": [
    {
     "data": {
      "text/plain": [
       "7.999999999999999"
      ]
     },
     "execution_count": 25,
     "metadata": {},
     "output_type": "execute_result"
    }
   ],
   "source": [
    "E2(x -> x^2 + 3)"
   ]
  },
  {
   "cell_type": "code",
   "execution_count": 26,
   "metadata": {},
   "outputs": [
    {
     "data": {
      "text/latex": [
       "$23.2 \\pm 1.0$"
      ],
      "text/plain": [
       "23.2 ± 1.0"
      ]
     },
     "execution_count": 26,
     "metadata": {},
     "output_type": "execute_result"
    }
   ],
   "source": [
    "using Expectations \n",
    "\n",
    "E = expectation(d)\n",
    "E(x -> x^2)"
   ]
  },
  {
   "cell_type": "markdown",
   "metadata": {},
   "source": [
    "> Simple"
   ]
  },
  {
   "cell_type": "markdown",
   "metadata": {},
   "source": [
    "From Paul Graham's [accumulator generator](http://www.paulgraham.com/accgen.html):\n",
    "\n",
    "> The problem: Write a function foo that takes a number n and returns a function that takes a number i, and returns n incremented by i.\n"
   ]
  },
  {
   "cell_type": "code",
   "execution_count": 31,
   "metadata": {},
   "outputs": [
    {
     "data": {
      "text/plain": [
       "#16 (generic function with 1 method)"
      ]
     },
     "execution_count": 31,
     "metadata": {},
     "output_type": "execute_result"
    }
   ],
   "source": [
    "foo2 = n -> (i -> i + n)"
   ]
  },
  {
   "cell_type": "code",
   "execution_count": 32,
   "metadata": {},
   "outputs": [
    {
     "data": {
      "text/plain": [
       "#17 (generic function with 1 method)"
      ]
     },
     "execution_count": 32,
     "metadata": {},
     "output_type": "execute_result"
    }
   ],
   "source": [
    "add_by_3 = foo2(3)"
   ]
  },
  {
   "cell_type": "code",
   "execution_count": 33,
   "metadata": {},
   "outputs": [
    {
     "data": {
      "text/plain": [
       "8"
      ]
     },
     "execution_count": 33,
     "metadata": {},
     "output_type": "execute_result"
    }
   ],
   "source": [
    "add_by_3(5)"
   ]
  },
  {
   "cell_type": "markdown",
   "metadata": {},
   "source": [
    "### What Julia Isn't"
   ]
  },
  {
   "cell_type": "markdown",
   "metadata": {},
   "source": [
    "> The first-best language for every purpose"
   ]
  },
  {
   "cell_type": "markdown",
   "metadata": {},
   "source": [
    "Statistics Packages: [R Package List](https://cran.r-project.org/web/packages/available_packages_by_name.html)\n",
    "\n",
    "QuantEcon Data Science: [Why Python?](https://datascience.quantecon.org/introduction/getting_started.html#Why-Python?)"
   ]
  },
  {
   "cell_type": "markdown",
   "metadata": {},
   "source": [
    "## (2/3) Closer Look"
   ]
  },
  {
   "cell_type": "markdown",
   "metadata": {},
   "source": [
    "[Expectations.jl](https://github.com/QuantEcon/Expectations.jl)\n",
    "\n",
    "[Distributions.jl](https://github.com/QuantEcon/Distributions.jl)"
   ]
  },
  {
   "cell_type": "code",
   "execution_count": 46,
   "metadata": {},
   "outputs": [
    {
     "data": {
      "text/html": [
       "2 methods for generic function <b>lengthen</b>:<ul><li> lengthen(s::<b>String</b>) in Main at In[43]:3</li> <li> lengthen(n::<b>Int64</b>) in Main at In[43]:2</li> </ul>"
      ],
      "text/plain": [
       "# 2 methods for generic function \"lengthen\":\n",
       "[1] lengthen(s::String) in Main at In[43]:3\n",
       "[2] lengthen(n::Int64) in Main at In[43]:2"
      ]
     },
     "execution_count": 46,
     "metadata": {},
     "output_type": "execute_result"
    }
   ],
   "source": [
    "methods(lengthen)"
   ]
  },
  {
   "cell_type": "code",
   "execution_count": 43,
   "metadata": {},
   "outputs": [
    {
     "data": {
      "text/plain": [
       "lengthen (generic function with 2 methods)"
      ]
     },
     "execution_count": 43,
     "metadata": {},
     "output_type": "execute_result"
    }
   ],
   "source": [
    "## Single Dispatch \n",
    "lengthen(n::Int) = n + 1\n",
    "lengthen(s::String) = s * \"!\""
   ]
  },
  {
   "cell_type": "code",
   "execution_count": 44,
   "metadata": {},
   "outputs": [
    {
     "data": {
      "text/plain": [
       "5"
      ]
     },
     "execution_count": 44,
     "metadata": {},
     "output_type": "execute_result"
    }
   ],
   "source": [
    "lengthen(4)"
   ]
  },
  {
   "cell_type": "code",
   "execution_count": 45,
   "metadata": {},
   "outputs": [
    {
     "data": {
      "text/plain": [
       "\"studyGroup!\""
      ]
     },
     "execution_count": 45,
     "metadata": {},
     "output_type": "execute_result"
    }
   ],
   "source": [
    "lengthen(\"studyGroup\")"
   ]
  },
  {
   "cell_type": "code",
   "execution_count": 48,
   "metadata": {},
   "outputs": [],
   "source": [
    "using Expectations"
   ]
  },
  {
   "cell_type": "code",
   "execution_count": 50,
   "metadata": {},
   "outputs": [
    {
     "data": {
      "text/plain": [
       "Normal{Float64}(μ=0.0, σ=1.0)"
      ]
     },
     "execution_count": 50,
     "metadata": {},
     "output_type": "execute_result"
    }
   ],
   "source": [
    "d = Normal()"
   ]
  },
  {
   "cell_type": "code",
   "execution_count": 49,
   "metadata": {},
   "outputs": [
    {
     "data": {
      "text/html": [
       "12 methods for generic function <b>expectation</b>:<ul><li> expectation(dist::<b>Distribution{Univariate,Discrete}</b>) in Expectations at <a href=\"file:///Users/arnavsood/.julia/packages/Expectations/42bqn/src/iterable.jl\" target=\"_blank\">/Users/arnavsood/.julia/packages/Expectations/42bqn/src/iterable.jl:62</a></li> <li> expectation(dist::<b>Distribution{Univariate,Discrete}</b>, alg::<b>Type{FiniteDiscrete}</b>; <i>kwargs...</i>) in Expectations at <a href=\"file:///Users/arnavsood/.julia/packages/Expectations/42bqn/src/iterable.jl\" target=\"_blank\">/Users/arnavsood/.julia/packages/Expectations/42bqn/src/iterable.jl:62</a></li> <li> expectation(dist::<b>Distribution{Univariate,Continuous}</b>) in Expectations at <a href=\"file:///Users/arnavsood/.julia/packages/Expectations/42bqn/src/iterable.jl\" target=\"_blank\">/Users/arnavsood/.julia/packages/Expectations/42bqn/src/iterable.jl:87</a></li> <li> expectation(dist::<b>Distribution{Univariate,Continuous}</b>, alg::<b>Type{#s15} where #s15<:QuadratureAlgorithm</b>; <i>kwargs...</i>) in Expectations at <a href=\"file:///Users/arnavsood/.julia/packages/Expectations/42bqn/src/iterable.jl\" target=\"_blank\">/Users/arnavsood/.julia/packages/Expectations/42bqn/src/iterable.jl:87</a></li> <li> expectation(dist::<b>Distribution{Univariate,Continuous}</b>, nodes) in Expectations at <a href=\"file:///Users/arnavsood/.julia/packages/Expectations/42bqn/src/iterable.jl\" target=\"_blank\">/Users/arnavsood/.julia/packages/Expectations/42bqn/src/iterable.jl:224</a></li> <li> expectation(dist::<b>Distribution{Univariate,Continuous}</b>, nodes, alg::<b>Type{#s14} where #s14<:ExplicitQuadratureAlgorithm</b>; <i>kwargs...</i>) in Expectations at <a href=\"file:///Users/arnavsood/.julia/packages/Expectations/42bqn/src/iterable.jl\" target=\"_blank\">/Users/arnavsood/.julia/packages/Expectations/42bqn/src/iterable.jl:224</a></li> <li> expectation(f::<b>Function</b>, dist::<b>Distribution{Univariate,Discrete}</b>) in Expectations at <a href=\"file:///Users/arnavsood/.julia/packages/Expectations/42bqn/src/iterable.jl\" target=\"_blank\">/Users/arnavsood/.julia/packages/Expectations/42bqn/src/iterable.jl:269</a></li> <li> expectation(f::<b>Function</b>, dist::<b>Distribution{Univariate,Discrete}</b>, alg::<b>Type{FiniteDiscrete}</b>; <i>kwargs...</i>) in Expectations at <a href=\"file:///Users/arnavsood/.julia/packages/Expectations/42bqn/src/iterable.jl\" target=\"_blank\">/Users/arnavsood/.julia/packages/Expectations/42bqn/src/iterable.jl:269</a></li> <li> expectation(f::<b>Function</b>, dist::<b>Distribution{Univariate,Continuous}</b>) in Expectations at <a href=\"file:///Users/arnavsood/.julia/packages/Expectations/42bqn/src/iterable.jl\" target=\"_blank\">/Users/arnavsood/.julia/packages/Expectations/42bqn/src/iterable.jl:276</a></li> <li> expectation(f::<b>Function</b>, dist::<b>Distribution{Univariate,Continuous}</b>, alg::<b>Type{#s14} where #s14<:QuadratureAlgorithm</b>; <i>kwargs...</i>) in Expectations at <a href=\"file:///Users/arnavsood/.julia/packages/Expectations/42bqn/src/iterable.jl\" target=\"_blank\">/Users/arnavsood/.julia/packages/Expectations/42bqn/src/iterable.jl:276</a></li> <li> expectation(f::<b>Function</b>, dist::<b>Distribution{Univariate,Continuous}</b>, nodes::<b>AbstractArray</b>) in Expectations at <a href=\"file:///Users/arnavsood/.julia/packages/Expectations/42bqn/src/iterable.jl\" target=\"_blank\">/Users/arnavsood/.julia/packages/Expectations/42bqn/src/iterable.jl:283</a></li> <li> expectation(f::<b>Function</b>, dist::<b>Distribution{Univariate,Continuous}</b>, nodes::<b>AbstractArray</b>, alg::<b>Type{#s15} where #s15<:ExplicitQuadratureAlgorithm</b>; <i>kwargs...</i>) in Expectations at <a href=\"file:///Users/arnavsood/.julia/packages/Expectations/42bqn/src/iterable.jl\" target=\"_blank\">/Users/arnavsood/.julia/packages/Expectations/42bqn/src/iterable.jl:283</a></li> </ul>"
      ],
      "text/plain": [
       "# 12 methods for generic function \"expectation\":\n",
       "[1] expectation(dist::Distribution{Univariate,Discrete}) in Expectations at /Users/arnavsood/.julia/packages/Expectations/42bqn/src/iterable.jl:62\n",
       "[2] expectation(dist::Distribution{Univariate,Discrete}, alg::Type{FiniteDiscrete}; kwargs...) in Expectations at /Users/arnavsood/.julia/packages/Expectations/42bqn/src/iterable.jl:62\n",
       "[3] expectation(dist::Distribution{Univariate,Continuous}) in Expectations at /Users/arnavsood/.julia/packages/Expectations/42bqn/src/iterable.jl:87\n",
       "[4] expectation(dist::Distribution{Univariate,Continuous}, alg::Type{#s15} where #s15<:QuadratureAlgorithm; kwargs...) in Expectations at /Users/arnavsood/.julia/packages/Expectations/42bqn/src/iterable.jl:87\n",
       "[5] expectation(dist::Distribution{Univariate,Continuous}, nodes) in Expectations at /Users/arnavsood/.julia/packages/Expectations/42bqn/src/iterable.jl:224\n",
       "[6] expectation(dist::Distribution{Univariate,Continuous}, nodes, alg::Type{#s14} where #s14<:ExplicitQuadratureAlgorithm; kwargs...) in Expectations at /Users/arnavsood/.julia/packages/Expectations/42bqn/src/iterable.jl:224\n",
       "[7] expectation(f::Function, dist::Distribution{Univariate,Discrete}) in Expectations at /Users/arnavsood/.julia/packages/Expectations/42bqn/src/iterable.jl:269\n",
       "[8] expectation(f::Function, dist::Distribution{Univariate,Discrete}, alg::Type{FiniteDiscrete}; kwargs...) in Expectations at /Users/arnavsood/.julia/packages/Expectations/42bqn/src/iterable.jl:269\n",
       "[9] expectation(f::Function, dist::Distribution{Univariate,Continuous}) in Expectations at /Users/arnavsood/.julia/packages/Expectations/42bqn/src/iterable.jl:276\n",
       "[10] expectation(f::Function, dist::Distribution{Univariate,Continuous}, alg::Type{#s14} where #s14<:QuadratureAlgorithm; kwargs...) in Expectations at /Users/arnavsood/.julia/packages/Expectations/42bqn/src/iterable.jl:276\n",
       "[11] expectation(f::Function, dist::Distribution{Univariate,Continuous}, nodes::AbstractArray) in Expectations at /Users/arnavsood/.julia/packages/Expectations/42bqn/src/iterable.jl:283\n",
       "[12] expectation(f::Function, dist::Distribution{Univariate,Continuous}, nodes::AbstractArray, alg::Type{#s15} where #s15<:ExplicitQuadratureAlgorithm; kwargs...) in Expectations at /Users/arnavsood/.julia/packages/Expectations/42bqn/src/iterable.jl:283"
      ]
     },
     "execution_count": 49,
     "metadata": {},
     "output_type": "execute_result"
    }
   ],
   "source": [
    "methods(expectation)"
   ]
  },
  {
   "cell_type": "code",
   "execution_count": 54,
   "metadata": {},
   "outputs": [],
   "source": [
    "using LinearAlgebra"
   ]
  },
  {
   "cell_type": "code",
   "execution_count": 55,
   "metadata": {},
   "outputs": [
    {
     "data": {
      "text/plain": [
       "4×4 Array{Float64,2}:\n",
       " 0.444178  0.969486   0.789261   0.748211\n",
       " 0.223644  0.999194   0.0541878  0.905826\n",
       " 0.89078   0.0944262  0.0157546  0.765882\n",
       " 0.123715  0.723957   0.844792   0.863236"
      ]
     },
     "execution_count": 55,
     "metadata": {},
     "output_type": "execute_result"
    }
   ],
   "source": [
    "M = rand(4, 4)"
   ]
  },
  {
   "cell_type": "code",
   "execution_count": 56,
   "metadata": {},
   "outputs": [
    {
     "data": {
      "text/html": [
       "det(A::<b>AbstractArray{T,2}</b>)<i> where T</i> in LinearAlgebra at <a href=\"file:///Users/sabae/buildbot/worker/package_macos64/build/usr/share/julia/stdlib/v1.2/LinearAlgebra/src/generic.jl\" target=\"_blank\">/Users/sabae/buildbot/worker/package_macos64/build/usr/share/julia/stdlib/v1.2/LinearAlgebra/src/generic.jl:1341</a>"
      ],
      "text/plain": [
       "det(A::AbstractArray{T,2}) where T in LinearAlgebra at /Users/sabae/buildbot/worker/package_macos64/build/usr/share/julia/stdlib/v1.2/LinearAlgebra/src/generic.jl:1341"
      ]
     },
     "execution_count": 56,
     "metadata": {},
     "output_type": "execute_result"
    }
   ],
   "source": [
    "@which det(M)"
   ]
  },
  {
   "cell_type": "code",
   "execution_count": 57,
   "metadata": {},
   "outputs": [
    {
     "data": {
      "text/plain": [
       "4×4 UpperTriangular{Float64,Array{Float64,2}}:\n",
       " 0.444178  0.969486  0.789261   0.748211\n",
       "  ⋅        0.999194  0.0541878  0.905826\n",
       "  ⋅         ⋅        0.0157546  0.765882\n",
       "  ⋅         ⋅         ⋅         0.863236"
      ]
     },
     "execution_count": 57,
     "metadata": {},
     "output_type": "execute_result"
    }
   ],
   "source": [
    "M = UpperTriangular(M)"
   ]
  },
  {
   "cell_type": "code",
   "execution_count": 58,
   "metadata": {},
   "outputs": [
    {
     "data": {
      "text/html": [
       "det(A::<b>UpperTriangular</b>) in LinearAlgebra at <a href=\"file:///Users/sabae/buildbot/worker/package_macos64/build/usr/share/julia/stdlib/v1.2/LinearAlgebra/src/triangular.jl\" target=\"_blank\">/Users/sabae/buildbot/worker/package_macos64/build/usr/share/julia/stdlib/v1.2/LinearAlgebra/src/triangular.jl:2498</a>"
      ],
      "text/plain": [
       "det(A::UpperTriangular) in LinearAlgebra at /Users/sabae/buildbot/worker/package_macos64/build/usr/share/julia/stdlib/v1.2/LinearAlgebra/src/triangular.jl:2498"
      ]
     },
     "execution_count": 58,
     "metadata": {},
     "output_type": "execute_result"
    }
   ],
   "source": [
    "@which det(M)"
   ]
  },
  {
   "cell_type": "code",
   "execution_count": 59,
   "metadata": {},
   "outputs": [],
   "source": [
    "A = rand(4, 4);\n",
    "M = LowerTriangular(A);"
   ]
  },
  {
   "cell_type": "code",
   "execution_count": 62,
   "metadata": {},
   "outputs": [
    {
     "data": {
      "text/html": [
       "*(A::<b>LinearAlgebra.AbstractTriangular</b>, B::<b>AbstractArray{T,2} where T</b>) in LinearAlgebra at <a href=\"file:///Users/sabae/buildbot/worker/package_macos64/build/usr/share/julia/stdlib/v1.2/LinearAlgebra/src/triangular.jl\" target=\"_blank\">/Users/sabae/buildbot/worker/package_macos64/build/usr/share/julia/stdlib/v1.2/LinearAlgebra/src/triangular.jl:1843</a>"
      ],
      "text/plain": [
       "*(A::LinearAlgebra.AbstractTriangular, B::AbstractArray{T,2} where T) in LinearAlgebra at /Users/sabae/buildbot/worker/package_macos64/build/usr/share/julia/stdlib/v1.2/LinearAlgebra/src/triangular.jl:1843"
      ]
     },
     "execution_count": 62,
     "metadata": {},
     "output_type": "execute_result"
    }
   ],
   "source": [
    "@which M*A"
   ]
  },
  {
   "cell_type": "code",
   "execution_count": null,
   "metadata": {},
   "outputs": [],
   "source": []
  },
  {
   "cell_type": "markdown",
   "metadata": {},
   "source": [
    "## Multiple Dispatch \n",
    "[Expectations.jl](https://github.com/QuantEcon/Expectations.jl) # algorithm selection"
   ]
  },
  {
   "cell_type": "code",
   "execution_count": 64,
   "metadata": {},
   "outputs": [
    {
     "data": {
      "text/plain": [
       "f (generic function with 1 method)"
      ]
     },
     "execution_count": 64,
     "metadata": {},
     "output_type": "execute_result"
    }
   ],
   "source": [
    "using Test\n",
    "f(x) = x + one(x)"
   ]
  },
  {
   "cell_type": "code",
   "execution_count": 65,
   "metadata": {},
   "outputs": [
    {
     "data": {
      "text/plain": [
       "4"
      ]
     },
     "execution_count": 65,
     "metadata": {},
     "output_type": "execute_result"
    }
   ],
   "source": [
    "f(3)"
   ]
  },
  {
   "cell_type": "code",
   "execution_count": 66,
   "metadata": {},
   "outputs": [
    {
     "data": {
      "text/plain": [
       "4.0"
      ]
     },
     "execution_count": 66,
     "metadata": {},
     "output_type": "execute_result"
    }
   ],
   "source": [
    "f(3.)"
   ]
  },
  {
   "cell_type": "code",
   "execution_count": 67,
   "metadata": {},
   "outputs": [
    {
     "data": {
      "text/plain": [
       "2×2 Array{Int64,2}:\n",
       " 2  1\n",
       " 1  2"
      ]
     },
     "execution_count": 67,
     "metadata": {},
     "output_type": "execute_result"
    }
   ],
   "source": [
    "f([1 1; 1 1])"
   ]
  },
  {
   "cell_type": "code",
   "execution_count": 68,
   "metadata": {},
   "outputs": [
    {
     "name": "stdout",
     "output_type": "stream",
     "text": [
      "\t.section\t__TEXT,__text,regular,pure_instructions\n",
      "; ┌ @ In[64]:2 within `f'\n",
      "\tpushq\t%r14\n",
      "\tpushq\t%rbx\n",
      "\tsubq\t$56, %rsp\n",
      "\tmovq\t%rsi, %rbx\n",
      "\tvxorps\t%xmm0, %xmm0, %xmm0\n",
      "\tvmovaps\t%xmm0, (%rsp)\n",
      "\tmovq\t$0, 16(%rsp)\n",
      "\tmovq\t%rbx, 48(%rsp)\n",
      "\tmovabsq\t$jl_get_ptls_states_fast, %rax\n",
      "\tcallq\t*%rax\n",
      "\tmovq\t%rax, %r14\n",
      "\tmovq\t$2, (%rsp)\n",
      "\tmovq\t(%r14), %rax\n",
      "\tmovq\t%rax, 8(%rsp)\n",
      "\tmovq\t%rsp, %rax\n",
      "\tmovq\t%rax, (%r14)\n",
      "\tmovq\t(%rbx), %rbx\n",
      "; │┌ @ array.jl:469 within `one'\n",
      "\tmovabsq\t$_one, %rax\n",
      "\tmovl\t$1, %edi\n",
      "\tmovq\t%rbx, %rsi\n",
      "\tcallq\t*%rax\n",
      "\tmovq\t%rax, 16(%rsp)\n",
      "; │└\n",
      "\tmovq\t%rbx, 32(%rsp)\n",
      "\tmovq\t%rax, 40(%rsp)\n",
      "\tmovabsq\t$\"+\", %rax\n",
      "\tmovabsq\t$jl_system_image_data, %rdi\n",
      "\tleaq\t32(%rsp), %rsi\n",
      "\tmovl\t$2, %edx\n",
      "\tcallq\t*%rax\n",
      "\tmovq\t8(%rsp), %rcx\n",
      "\tmovq\t%rcx, (%r14)\n",
      "\taddq\t$56, %rsp\n",
      "\tpopq\t%rbx\n",
      "\tpopq\t%r14\n",
      "\tretq\n",
      "\tnopl\t(%rax)\n",
      "; └\n"
     ]
    }
   ],
   "source": [
    "@code_native f([1 0; 1 1])"
   ]
  },
  {
   "cell_type": "code",
   "execution_count": 69,
   "metadata": {},
   "outputs": [
    {
     "data": {
      "text/plain": [
       "2×2 Array{Int64,2}:\n",
       " 2  2\n",
       " 3  5"
      ]
     },
     "execution_count": 69,
     "metadata": {},
     "output_type": "execute_result"
    }
   ],
   "source": [
    "@inferred f(3)\n",
    "@inferred f(3.)\n",
    "@inferred f([1 2; 3 4])"
   ]
  },
  {
   "cell_type": "code",
   "execution_count": 72,
   "metadata": {},
   "outputs": [
    {
     "data": {
      "text/plain": [
       "g (generic function with 1 method)"
      ]
     },
     "execution_count": 72,
     "metadata": {},
     "output_type": "execute_result"
    }
   ],
   "source": [
    "b = 1\n",
    "g(x) = x + b "
   ]
  },
  {
   "cell_type": "code",
   "execution_count": 76,
   "metadata": {},
   "outputs": [
    {
     "name": "stdout",
     "output_type": "stream",
     "text": [
      "Variables\n",
      "  #self#\u001b[36m::Core.Compiler.Const(f, false)\u001b[39m\n",
      "  x\u001b[36m::Int64\u001b[39m\n",
      "\n",
      "Body\u001b[36m::Int64\u001b[39m\n",
      "\u001b[90m1 ─\u001b[39m %1 = Main.one(x)\u001b[36m::Core.Compiler.Const(1, false)\u001b[39m\n",
      "\u001b[90m│  \u001b[39m %2 = (x + %1)\u001b[36m::Int64\u001b[39m\n",
      "\u001b[90m└──\u001b[39m      return %2\n"
     ]
    }
   ],
   "source": [
    "@code_warntype f(2)"
   ]
  },
  {
   "cell_type": "code",
   "execution_count": 77,
   "metadata": {},
   "outputs": [
    {
     "name": "stdout",
     "output_type": "stream",
     "text": [
      "Variables\n",
      "  #self#\u001b[36m::Core.Compiler.Const(g, false)\u001b[39m\n",
      "  x\u001b[36m::Int64\u001b[39m\n",
      "\n",
      "Body\u001b[91m\u001b[1m::Any\u001b[22m\u001b[39m\n",
      "\u001b[90m1 ─\u001b[39m %1 = (x + Main.b)\u001b[91m\u001b[1m::Any\u001b[22m\u001b[39m\n",
      "\u001b[90m└──\u001b[39m      return %1\n"
     ]
    }
   ],
   "source": [
    "@code_warntype g(2)"
   ]
  },
  {
   "cell_type": "code",
   "execution_count": null,
   "metadata": {},
   "outputs": [],
   "source": [
    "@inferred g(4)\n",
    "@code_native g(3.)"
   ]
  },
  {
   "cell_type": "code",
   "execution_count": 78,
   "metadata": {},
   "outputs": [
    {
     "name": "stdout",
     "output_type": "stream",
     "text": [
      "2 = 2\n"
     ]
    },
    {
     "data": {
      "text/plain": [
       "2"
      ]
     },
     "execution_count": 78,
     "metadata": {},
     "output_type": "execute_result"
    }
   ],
   "source": [
    "@show 2"
   ]
  },
  {
   "cell_type": "code",
   "execution_count": 83,
   "metadata": {},
   "outputs": [
    {
     "data": {
      "text/plain": [
       "\u001b[32m\u001b[1mTest Passed\u001b[22m\u001b[39m"
      ]
     },
     "execution_count": 83,
     "metadata": {},
     "output_type": "execute_result"
    }
   ],
   "source": [
    "@test 1 == 1"
   ]
  },
  {
   "cell_type": "code",
   "execution_count": 96,
   "metadata": {},
   "outputs": [
    {
     "data": {
      "text/plain": [
       "5-element Array{Any,1}:\n",
       " BigFloat   \n",
       " Float16    \n",
       " Float32    \n",
       " Float64    \n",
       " Measurement"
      ]
     },
     "execution_count": 96,
     "metadata": {},
     "output_type": "execute_result"
    }
   ],
   "source": [
    "subtypes(AbstractFloat)"
   ]
  },
  {
   "cell_type": "code",
   "execution_count": 102,
   "metadata": {},
   "outputs": [
    {
     "data": {
      "text/html": [
       "+(a::<b>Measurement</b>, b::<b>Measurement</b>) in Measurements at <a href=\"file:///Users/arnavsood/.julia/packages/Measurements/I2ugE/src/math.jl\" target=\"_blank\">/Users/arnavsood/.julia/packages/Measurements/I2ugE/src/math.jl:174</a>"
      ],
      "text/plain": [
       "+(a::Measurement, b::Measurement) in Measurements at /Users/arnavsood/.julia/packages/Measurements/I2ugE/src/math.jl:174"
      ]
     },
     "execution_count": 102,
     "metadata": {},
     "output_type": "execute_result"
    }
   ],
   "source": [
    "@which (1.0 ± 0.0) + (0.5 ± 0.5)"
   ]
  },
  {
   "cell_type": "code",
   "execution_count": 101,
   "metadata": {},
   "outputs": [
    {
     "data": {
      "text/plain": [
       "true"
      ]
     },
     "execution_count": 101,
     "metadata": {},
     "output_type": "execute_result"
    }
   ],
   "source": [
    "typeof(1.0 ± 0.0) <: AbstractFloat"
   ]
  },
  {
   "cell_type": "code",
   "execution_count": 98,
   "metadata": {},
   "outputs": [
    {
     "data": {
      "text/plain": [
       "my_square (generic function with 1 method)"
      ]
     },
     "execution_count": 98,
     "metadata": {},
     "output_type": "execute_result"
    }
   ],
   "source": [
    "function my_square(n::AbstractFloat)\n",
    "    print(\"this is our method\")\n",
    "a    return n^2\n",
    "end"
   ]
  },
  {
   "cell_type": "code",
   "execution_count": 99,
   "metadata": {},
   "outputs": [
    {
     "name": "stdout",
     "output_type": "stream",
     "text": [
      "this is our method"
     ]
    },
    {
     "data": {
      "text/plain": [
       "4.0"
      ]
     },
     "execution_count": 99,
     "metadata": {},
     "output_type": "execute_result"
    }
   ],
   "source": [
    "my_square(2.)"
   ]
  },
  {
   "cell_type": "code",
   "execution_count": 124,
   "metadata": {},
   "outputs": [
    {
     "data": {
      "text/plain": [
       "10-element Array{Float64,1}:\n",
       " 0.0\n",
       " 0.0\n",
       " 0.0\n",
       " 0.0\n",
       " 0.0\n",
       " 0.0\n",
       " 0.0\n",
       " 0.0\n",
       " 0.0\n",
       " 0.0"
      ]
     },
     "execution_count": 124,
     "metadata": {},
     "output_type": "execute_result"
    }
   ],
   "source": [
    "a = zeros(Float64, 10)"
   ]
  },
  {
   "cell_type": "code",
   "execution_count": 127,
   "metadata": {},
   "outputs": [
    {
     "ename": "MethodError",
     "evalue": "MethodError: Cannot `convert` an object of type String to an object of type Float64\nClosest candidates are:\n  convert(::Type{T<:Number}, !Matched::T<:Number) where T<:Number at number.jl:6\n  convert(::Type{T<:Number}, !Matched::Number) where T<:Number at number.jl:7\n  convert(::Type{T<:Number}, !Matched::Base.TwicePrecision) where T<:Number at twiceprecision.jl:250\n  ...",
     "output_type": "error",
     "traceback": [
      "MethodError: Cannot `convert` an object of type String to an object of type Float64\nClosest candidates are:\n  convert(::Type{T<:Number}, !Matched::T<:Number) where T<:Number at number.jl:6\n  convert(::Type{T<:Number}, !Matched::Number) where T<:Number at number.jl:7\n  convert(::Type{T<:Number}, !Matched::Base.TwicePrecision) where T<:Number at twiceprecision.jl:250\n  ...",
      "",
      "Stacktrace:",
      " [1] setindex!(::Array{Float64,1}, ::String, ::Int64) at ./array.jl:766",
      " [2] top-level scope at In[127]:1"
     ]
    }
   ],
   "source": [
    "a[4] = \"yo\""
   ]
  },
  {
   "cell_type": "code",
   "execution_count": 128,
   "metadata": {},
   "outputs": [
    {
     "data": {
      "text/plain": [
       "10-element Array{Float64,1}:\n",
       " 0.0\n",
       " 0.0\n",
       " 0.0\n",
       " 5.0\n",
       " 0.0\n",
       " 0.0\n",
       " 0.0\n",
       " 0.0\n",
       " 0.0\n",
       " 0.0"
      ]
     },
     "execution_count": 128,
     "metadata": {},
     "output_type": "execute_result"
    }
   ],
   "source": [
    "a"
   ]
  },
  {
   "cell_type": "code",
   "execution_count": 109,
   "metadata": {},
   "outputs": [
    {
     "name": "stdout",
     "output_type": "stream",
     "text": [
      "\t.section\t__TEXT,__text,regular,pure_instructions\n",
      "; ┌ @ arraymath.jl:52 within `*'\n",
      "\tpushq\t%rax\n",
      "\tmovabsq\t$broadcast, %rax\n",
      "\tcallq\t*%rax\n",
      "\tpopq\t%rcx\n",
      "\tretq\n",
      "\tnop\n",
      "; └\n"
     ]
    }
   ],
   "source": [
    "@code_native 2*a"
   ]
  },
  {
   "cell_type": "code",
   "execution_count": 110,
   "metadata": {},
   "outputs": [
    {
     "data": {
      "text/plain": [
       "10-element Array{Number,1}:\n",
       " 0\n",
       " 0\n",
       " 0\n",
       " 0\n",
       " 0\n",
       " 0\n",
       " 0\n",
       " 0\n",
       " 0\n",
       " 0"
      ]
     },
     "execution_count": 110,
     "metadata": {},
     "output_type": "execute_result"
    }
   ],
   "source": [
    "a = zeros(Number, 10)"
   ]
  },
  {
   "cell_type": "code",
   "execution_count": 112,
   "metadata": {},
   "outputs": [
    {
     "data": {
      "text/plain": [
       "Array{Number,1}"
      ]
     },
     "execution_count": 112,
     "metadata": {},
     "output_type": "execute_result"
    }
   ],
   "source": [
    "typeof(a)"
   ]
  },
  {
   "cell_type": "code",
   "execution_count": 116,
   "metadata": {},
   "outputs": [],
   "source": [
    "struct Foo{T}\n",
    "    data::T \n",
    "end"
   ]
  },
  {
   "cell_type": "code",
   "execution_count": 119,
   "metadata": {},
   "outputs": [
    {
     "data": {
      "text/plain": [
       "add_one (generic function with 1 method)"
      ]
     },
     "execution_count": 119,
     "metadata": {},
     "output_type": "execute_result"
    }
   ],
   "source": [
    "add_one(foo::Foo{T}) where T = foo.data + one(T)"
   ]
  },
  {
   "cell_type": "code",
   "execution_count": 120,
   "metadata": {},
   "outputs": [
    {
     "data": {
      "text/plain": [
       "3"
      ]
     },
     "execution_count": 120,
     "metadata": {},
     "output_type": "execute_result"
    }
   ],
   "source": [
    "add_one(Foo(2))"
   ]
  },
  {
   "cell_type": "code",
   "execution_count": 123,
   "metadata": {},
   "outputs": [
    {
     "data": {
      "text/html": [
       "add_one(foo::<b>Foo{T}</b>)<i> where T</i> in Main at In[119]:1"
      ],
      "text/plain": [
       "add_one(foo::Foo{T}) where T in Main at In[119]:1"
      ]
     },
     "execution_count": 123,
     "metadata": {},
     "output_type": "execute_result"
    }
   ],
   "source": [
    "add_one(Foo(1.0))"
   ]
  },
  {
   "cell_type": "code",
   "execution_count": 122,
   "metadata": {},
   "outputs": [
    {
     "data": {
      "text/html": [
       "1 method for generic function <b>add_one</b>:<ul><li> add_one(foo::<b>Foo{T}</b>)<i> where T</i> in Main at In[119]:1</li> </ul>"
      ],
      "text/plain": [
       "# 1 method for generic function \"add_one\":\n",
       "[1] add_one(foo::Foo{T}) where T in Main at In[119]:1"
      ]
     },
     "execution_count": 122,
     "metadata": {},
     "output_type": "execute_result"
    }
   ],
   "source": [
    "methods(add_one)"
   ]
  },
  {
   "cell_type": "markdown",
   "metadata": {},
   "source": [
    "## (3/3) Scientific Computing"
   ]
  },
  {
   "cell_type": "markdown",
   "metadata": {},
   "source": [
    "[UBCecon Cluster Tools: Compute Canada](https://github.com/ubcecon/cluster_tools)"
   ]
  }
 ],
 "metadata": {
  "kernelspec": {
   "display_name": "Julia 1.2.0",
   "language": "julia",
   "name": "julia-1.2"
  },
  "language_info": {
   "file_extension": ".jl",
   "mimetype": "application/julia",
   "name": "julia",
   "version": "1.2.0"
  }
 },
 "nbformat": 4,
 "nbformat_minor": 4
}
